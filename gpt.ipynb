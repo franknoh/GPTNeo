{
 "cells": [
  {
   "cell_type": "code",
   "execution_count": null,
   "outputs": [],
   "source": [
    "!pip install transformers, wandb, ml-things, pandas, tqdm"
   ],
   "metadata": {
    "collapsed": false
   }
  },
  {
   "cell_type": "code",
   "execution_count": 1,
   "outputs": [],
   "source": [
    "import torch\n",
    "import wandb\n",
    "from tqdm import tqdm\n",
    "from torch.utils.data import DataLoader\n",
    "from torch.optim import AdamW\n",
    "from sklearn.metrics import accuracy_score\n",
    "from gptneo import MhcSeqDataset, Gpt2ClassificationCollator, GPTNeo\n",
    "from transformers import get_linear_schedule_with_warmup\n",
    "from accelerate import Accelerator"
   ],
   "metadata": {
    "collapsed": false,
    "ExecuteTime": {
     "end_time": "2023-05-01T07:58:07.835573Z",
     "start_time": "2023-05-01T07:57:58.788587Z"
    }
   }
  },
  {
   "cell_type": "code",
   "execution_count": 10,
   "outputs": [
    {
     "name": "stderr",
     "output_type": "stream",
     "text": [
      "/home/frank/.local/lib/python3.8/site-packages/transformers/optimization.py:391: FutureWarning: This implementation of AdamW is deprecated and will be removed in a future version. Use the PyTorch implementation torch.optim.AdamW instead, or set `no_deprecation_warning=True` to disable this warning\n",
      "  warnings.warn(\n"
     ]
    }
   ],
   "source": [
    "accelerator = Accelerator()\n",
    "device = accelerator.device\n",
    "print('training on device: ', device)"
   ],
   "metadata": {
    "collapsed": false
   }
  },
  {
   "cell_type": "code",
   "execution_count": null,
   "outputs": [],
   "source": [
    "epochs = 2\n",
    "batch_size = 64\n",
    "max_length = 384\n",
    "model_name_or_path = ''\n",
    "n_labels = 2"
   ],
   "metadata": {
    "collapsed": false
   }
  },
  {
   "cell_type": "code",
   "execution_count": null,
   "outputs": [],
   "source": [
    "model = GPTNeo(config={\n",
    "    'vocab_size': 32,\n",
    "    'block_size': 384,\n",
    "    'n_embd': 256,\n",
    "    'n_layer': 12,\n",
    "    'n_head': 4,\n",
    "    'bias': True,\n",
    "    'dropout': 0.1\n",
    "})\n",
    "model.to(device)\n",
    "model.config.pad_token_id = 0\n",
    "model.train()\n",
    "if model_name_or_path:\n",
    "    model.load_state_dict(torch.load(model_name_or_path))"
   ],
   "metadata": {
    "collapsed": false
   }
  },
  {
   "cell_type": "code",
   "execution_count": null,
   "outputs": [],
   "source": [
    "gpt2_classificaiton_collator = Gpt2ClassificationCollator(max_length)\n",
    "train_dataset = MhcSeqDataset(path='data/train.tsv')\n",
    "train_dataloader = DataLoader(train_dataset, batch_size=batch_size, shuffle=True,\n",
    "                                  collate_fn=gpt2_classificaiton_collator)\n",
    "optimizer = AdamW(model.parameters(), lr=2e-5, eps=1e-8)\n",
    "total_steps = len(train_dataloader) * epochs\n",
    "scheduler = get_linear_schedule_with_warmup(optimizer, num_warmup_steps=0, num_training_steps=total_steps)\n",
    "train_loss = []\n",
    "train_acc = []\n",
    "\n",
    "model, optimizer, scheduler, train_dataloader = accelerator.prepare(model, optimizer, scheduler, train_dataloader)"
   ],
   "metadata": {
    "collapsed": false
   }
  },
  {
   "cell_type": "code",
   "execution_count": null,
   "outputs": [],
   "source": [
    "for epoch in range(epochs):\n",
    "        predictions_labels = []\n",
    "        true_labels = []\n",
    "        total_loss = 0\n",
    "        for batch in tqdm(train_dataloader, total=len(train_dataloader)):\n",
    "            true_labels += batch['labels'].argmax(axis=-1).cpu().numpy().flatten().tolist()\n",
    "            optimizer.zero_grad()\n",
    "            outputs = model(**batch)\n",
    "            loss, logits = outputs[:2]\n",
    "            total_loss += loss.item()\n",
    "            accelerator.backward(loss)\n",
    "            torch.nn.utils.clip_grad_norm_(model.parameters(), 1.0)\n",
    "            optimizer.step()\n",
    "            scheduler.step()\n",
    "            logits = logits.detach().cpu().numpy()\n",
    "            predictions_labels += logits.argmax(axis=-1).flatten().tolist()\n",
    "        avg_epoch_loss = total_loss / len(train_dataloader)\n",
    "        train_loss.append(avg_epoch_loss)\n",
    "        acc = accuracy_score(true_labels, predictions_labels)\n",
    "        train_acc.append(acc)\n",
    "        torch.save(model.state_dict(), f'model{epoch}.pt')"
   ],
   "metadata": {
    "collapsed": false
   }
  }
 ],
 "metadata": {
  "kernelspec": {
   "display_name": "Python 3 (ipykernel)",
   "language": "python",
   "name": "python3"
  },
  "language_info": {
   "codemirror_mode": {
    "name": "ipython",
    "version": 3
   },
   "file_extension": ".py",
   "mimetype": "text/x-python",
   "name": "python",
   "nbconvert_exporter": "python",
   "pygments_lexer": "ipython3",
   "version": "3.8.10"
  }
 },
 "nbformat": 4,
 "nbformat_minor": 1
}
